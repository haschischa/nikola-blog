{
 "cells": [
  {
   "cell_type": "markdown",
   "metadata": {},
   "source": [
    "Här ser vi en fin plot över samtliga partiledare för Sveriges nuvarande riksdagspartier genom tiderna. "
   ]
  },
  {
   "cell_type": "raw",
   "metadata": {},
   "source": [
    "<iframe id=\"igraph\" scrolling=\"no\" style=\"border:none;\" \n",
    "seamless=\"seamless\" src=\"https://plotly.com/~haschischa/1.embed\" height=\"525\" width=\"100%\"></iframe>"
   ]
  }
 ],
 "metadata": {
  "kernelspec": {
   "display_name": "Python 3",
   "language": "python",
   "name": "python3"
  },
  "language_info": {
   "codemirror_mode": {
    "name": "ipython",
    "version": 3
   },
   "file_extension": ".py",
   "mimetype": "text/x-python",
   "name": "python",
   "nbconvert_exporter": "python",
   "pygments_lexer": "ipython3",
   "version": "3.8.2"
  },
  "nikola": {
   "category": "",
   "date": "2020-05-11 17:02:43 UTC+02:00",
   "description": "",
   "link": "",
   "slug": "partiledare",
   "tags": "",
   "title": "Partieldare för riksdagspartierna",
   "type": "text"
  }
 },
 "nbformat": 4,
 "nbformat_minor": 4
}
