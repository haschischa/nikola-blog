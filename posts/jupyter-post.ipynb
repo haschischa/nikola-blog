{
 "cells": [
  {
   "cell_type": "markdown",
   "metadata": {},
   "source": [
    "Jupyter experimenting"
   ]
  },
  {
   "cell_type": "code",
   "execution_count": 26,
   "metadata": {},
   "outputs": [
    {
     "name": "stdout",
     "output_type": "stream",
     "text": [
      "     name surname  birth_date death_date               party party_abr  \\\n",
      "0  Stefan  Löfven  1957-07-21        NaN  Socialdemokraterna         S   \n",
      "1   Håkan  Juholt  1962-09-16        NaN  Socialdemokraterna         S   \n",
      "2    Mona  Sahlin  1957-03-09        NaN  Socialdemokraterna         S   \n",
      "\n",
      "  assumed_office left_office sex city region  \n",
      "0     2012-01-27         NaN   m  NaN    NaN  \n",
      "1     2011-03-25  2012-01-21   m  NaN    NaN  \n",
      "2     2007-03-17  2011-03-25   k  NaN    NaN  \n"
     ]
    }
   ],
   "source": [
    "import pandas as pd\n",
    "import plotly.express as px\n",
    "import plotly.graph_objects as go\n",
    "import plotly.io as pio\n",
    "import chart_studio as cs\n",
    "import numpy as np\n",
    "import re\n",
    "from datetime import datetime\n",
    "from dateutil.relativedelta import relativedelta                     \n",
    "import plotly.tools as tls\n",
    "from IPython.display import HTML\n",
    "\n",
    "party_leaders = pd.read_csv('swedish_party_leaders.csv', header=0)\n",
    "print(party_leaders.head(3))"
   ]
  },
  {
   "cell_type": "code",
   "execution_count": 16,
   "metadata": {},
   "outputs": [
    {
     "data": {
      "application/vnd.plotly.v1+json": {
       "config": {
        "plotlyServerURL": "https://plot.ly"
       },
       "data": [
        {
         "hovertemplate": "<b>%{hovertext}</b><br><br>Parti=V<br>Ålder vid tillträde=%{x}<br>Antal år i ämbetet=%{y}<extra></extra>",
         "hovertext": [
          "C.H. Hermansson (1964 - 1975)",
          "Zeth Höglund II (1919 - 1924)",
          "Karl Kilbom II (1921 - 1923)",
          "Ernst Åström (1918 - 1918)",
          "Karl Kilbom I (1918 - 1918)",
          "Carl Winberg (1917 - 1917)",
          "Zeth Höglund I (1917 - 1917)",
          "Karl Kilbom III (1924 - 1929)",
          "Nils Flyg (1924 - 1929)",
          "Hilding Hagberg (1951 - 1964)",
          "Lars Werner (1975 - 1993)",
          "Gudrun Schyman (1993 - 2003)",
          "Ulla Hoffman (2003 - 2004)",
          "Lars Ohly (2004 - 2012)",
          "Jonas Sjöstedt (2012 - 2020)",
          "Sven Linderot (1929 - 1951)"
         ],
         "legendgroup": "V",
         "marker": {
          "color": "#990000",
          "line": {
           "color": "DarkSlateGrey",
           "width": 2
          },
          "opacity": 0.95,
          "size": 15,
          "symbol": "circle"
         },
         "mode": "markers",
         "name": "V",
         "showlegend": true,
         "type": "scatter",
         "x": [
          46,
          34,
          35,
          41,
          32,
          49,
          32,
          38,
          32,
          51,
          39,
          44,
          60,
          47,
          47,
          39
         ],
         "xaxis": "x",
         "y": [
          11.17,
          5,
          2,
          0.92,
          0.92,
          0.92,
          0.92,
          5,
          5,
          13,
          17.75,
          10,
          1,
          7.83,
          8.33,
          22
         ],
         "yaxis": "y"
        },
        {
         "hovertemplate": "<b>%{hovertext}</b><br><br>Parti=S<br>Ålder vid tillträde=%{x}<br>Antal år i ämbetet=%{y}<extra></extra>",
         "hovertext": [
          "Göran Persson (1996 - 2007)",
          "Claes Tholin (1896 - 1907)",
          "Mona Sahlin (2007 - 2011)",
          "Ingvar Carlsson (1986 - 1996)",
          "Håkan Juholt (2011 - 2012)",
          "Tage Erlander (1946 - 1969)",
          "Per Albin Hansson (1925 - 1946)",
          "Hjalmar Branting (1907 - 1920)",
          "Stefan Löfven (2012 - 2020)",
          "Olof Palme (1969 - 1986)"
         ],
         "legendgroup": "S",
         "marker": {
          "color": "#ff3300",
          "line": {
           "color": "DarkSlateGrey",
           "width": 2
          },
          "opacity": 0.95,
          "size": 15,
          "symbol": "circle"
         },
         "mode": "markers",
         "name": "S",
         "showlegend": true,
         "type": "scatter",
         "x": [
          47,
          35,
          50,
          51,
          48,
          45,
          39,
          46,
          54,
          42
         ],
         "xaxis": "x",
         "y": [
          11,
          11,
          4,
          10,
          0.75,
          22.92,
          21.67,
          13.75,
          8.25,
          16.33
         ],
         "yaxis": "y"
        },
        {
         "hovertemplate": "<b>%{hovertext}</b><br><br>Parti=Mp<br>Ålder vid tillträde=%{x}<br>Antal år i ämbetet=%{y}<extra></extra>",
         "hovertext": [
          "Per Bolund (2019 - 2020)",
          "Isabella Lövin (2016 - 2020)",
          "Matz Hammarström (2000 - 2002)",
          "Åsa Romson (2011 - 2016)",
          "Margareta Gisselberg (1990 - 1991)",
          "Gustav Fridolin (2011 - 2019)",
          "Ragnhild Pohanka (1984 - 1986)",
          "Per Gahrton (1984 - 1985)",
          "Eva Goës (1986 - 1988)",
          "Fiona Björling (1988 - 1990)",
          "Birger Schlaug I (1985 - 1988)",
          "Jan Axelsson (1990 - 1992)",
          "Marianne Samuelsson (1992 - 1999)",
          "Birger Schlaug II (1992 - 2000)",
          "Lotta Hedström (1999 - 2002)",
          "Peter Eriksson (2002 - 2011)",
          "Maria Wetterstrand (2002 - 2011)",
          "Anders Nordin (1988 - 1990)"
         ],
         "legendgroup": "Mp",
         "marker": {
          "color": "#408000",
          "line": {
           "color": "DarkSlateGrey",
           "width": 2
          },
          "opacity": 0.95,
          "size": 15,
          "symbol": "circle"
         },
         "mode": "markers",
         "name": "Mp",
         "showlegend": true,
         "type": "scatter",
         "x": [
          47,
          53,
          40,
          39,
          51,
          28,
          52,
          41,
          38,
          44,
          36,
          51,
          46,
          43,
          43,
          43,
          28,
          39
         ],
         "xaxis": "x",
         "y": [
          1,
          3.92,
          1.92,
          4.92,
          1.17,
          7.92,
          1.92,
          1.25,
          2.33,
          1.67,
          2.92,
          1.83,
          7,
          8.08,
          2.92,
          9,
          9,
          1.67
         ],
         "yaxis": "y"
        },
        {
         "hovertemplate": "<b>%{hovertext}</b><br><br>Parti=C<br>Ålder vid tillträde=%{x}<br>Antal år i ämbetet=%{y}<extra></extra>",
         "hovertext": [
          "Olof Johansson (1987 - 1998)",
          "Thorbjörn Fälldin (1971 - 1985)",
          "Annie Lööf (2011 - 2020)",
          "Maud Olofsson (2001 - 2011)",
          "Lennart Daléus (1998 - 2001)",
          "Karin Söder (1985 - 1987)",
          "Johan Anderson i Raklösen (1920 - 1924)",
          "Axel Pehrsson (1934 - 1949)",
          "Olof Olsson i Kullenbergstorp (1929 - 1934)",
          "Johan Johansson i Kälkebo (1924 - 1928)",
          "Gunnar Hedlund (1949 - 1971)",
          "Erik Eriksson i Spraxkya (1916 - 1919)"
         ],
         "legendgroup": "C",
         "marker": {
          "color": "#8cff66",
          "line": {
           "color": "DarkSlateGrey",
           "width": 2
          },
          "opacity": 0.95,
          "size": 15,
          "symbol": "circle"
         },
         "mode": "markers",
         "name": "C",
         "showlegend": true,
         "type": "scatter",
         "x": [
          49,
          45,
          28,
          45,
          52,
          57,
          53,
          50,
          69,
          57,
          48,
          51
         ],
         "xaxis": "x",
         "y": [
          11.42,
          14.5,
          8.58,
          10.5,
          2.58,
          1,
          4,
          15,
          5.42,
          4,
          22,
          3
         ],
         "yaxis": "y"
        },
        {
         "hovertemplate": "<b>%{hovertext}</b><br><br>Parti=L<br>Ålder vid tillträde=%{x}<br>Antal år i ämbetet=%{y}<extra></extra>",
         "hovertext": [
          "Felix Hamrin (1934 - 1935)",
          "Gustaf Andersson i Rasjön (1935 - 1944)",
          "Bertil Ohlin (1944 - 1967)",
          "Sven Wedén (1967 - 1969)",
          "Ola Ullsten (1978 - 1983)",
          "Per Ahlmark (1975 - 1978)",
          "Maria Leissner (1995 - 1997)",
          "Lars Leijonborg (1997 - 2007)",
          "Jan Björklund (2007 - 2019)",
          "Nyamko Sabuni (2019 - 2020)",
          "Gunnar Helén (1969 - 1975)",
          "Bengt Westerberg (1983 - 1995)"
         ],
         "legendgroup": "L",
         "marker": {
          "color": "#99ccff",
          "line": {
           "color": "DarkSlateGrey",
           "width": 2
          },
          "opacity": 0.95,
          "size": 15,
          "symbol": "circle"
         },
         "mode": "markers",
         "name": "L",
         "showlegend": true,
         "type": "scatter",
         "x": [
          59,
          50,
          45,
          53,
          46,
          36,
          39,
          47,
          45,
          50,
          51,
          40
         ],
         "xaxis": "x",
         "y": [
          0.42,
          9.67,
          22.67,
          2.25,
          5.5,
          2.25,
          2.08,
          10.42,
          11.75,
          0.83,
          6,
          11.33
         ],
         "yaxis": "y"
        },
        {
         "hovertemplate": "<b>%{hovertext}</b><br><br>Parti=M<br>Ålder vid tillträde=%{x}<br>Antal år i ämbetet=%{y}<extra></extra>",
         "hovertext": [
          "Jarl Hjalmarson (1950 - 1961)",
          "Hugo Tamm (1907 - 1907)",
          "Gustaf Fredrik Östberg II (1908 - 1912)",
          "Arvid Lindman (1912 - 1935)",
          "Gösta Bagge (1935 - 1944)",
          "Gunnar Heckscher (1961 - 1965)",
          "Fritiof Domö (1944 - 1950)",
          "Gustaf Fredrik Östberg I (1908 - 1912)",
          "Ulf Kristersson (2017 - 2020)",
          "Gösta Bohman (1970 - 1981)",
          "Axel Svedelius (1905 - 1906)",
          "Bo Lundgren (1999 - 2003)",
          "Ulf Adelsohn (1981 - 1986)",
          "Fredrik Reinfeldt (2003 - 2015)",
          "Carl Bildt (1986 - 1999)",
          "Anna Kinberg Batra (2015 - 2017)",
          "Yngve Holmberg (1965 - 1970)"
         ],
         "legendgroup": "M",
         "marker": {
          "color": "#0066ff",
          "line": {
           "color": "DarkSlateGrey",
           "width": 2
          },
          "opacity": 0.95,
          "size": 15,
          "symbol": "circle"
         },
         "mode": "markers",
         "name": "M",
         "showlegend": true,
         "type": "scatter",
         "x": [
          45,
          66,
          60,
          49,
          53,
          51,
          54,
          60,
          53,
          59,
          68,
          52,
          40,
          38,
          37,
          44,
          39
         ],
         "xaxis": "x",
         "y": [
          11,
          0.92,
          4,
          23.42,
          8.58,
          4,
          6,
          4,
          2.58,
          10.92,
          1.92,
          4.08,
          4.75,
          11.17,
          13,
          2.67,
          5.83
         ],
         "yaxis": "y"
        },
        {
         "hovertemplate": "<b>%{hovertext}</b><br><br>Parti=Kd<br>Ålder vid tillträde=%{x}<br>Antal år i ämbetet=%{y}<extra></extra>",
         "hovertext": [
          "Birger Ekstedt (1964 - 1972)",
          "Alf Svensson (1973 - 2004)",
          "Göran Hägglunf (2004 - 2015)",
          "Ebba Busch (2015 - 2020)"
         ],
         "legendgroup": "Kd",
         "marker": {
          "color": "#000099",
          "line": {
           "color": "DarkSlateGrey",
           "width": 2
          },
          "opacity": 0.95,
          "size": 15,
          "symbol": "circle"
         },
         "mode": "markers",
         "name": "Kd",
         "showlegend": true,
         "type": "scatter",
         "x": [
          42,
          34,
          45,
          28
         ],
         "xaxis": "x",
         "y": [
          8.5,
          30.67,
          11,
          5
         ],
         "yaxis": "y"
        },
        {
         "hovertemplate": "<b>%{hovertext}</b><br><br>Parti=Sd<br>Ålder vid tillträde=%{x}<br>Antal år i ämbetet=%{y}<extra></extra>",
         "hovertext": [
          "Jimmie Åkesson (2005 - 2020)",
          "Mikael Jansson (1995 - 2005)",
          "Anders Klarström (1989 - 1995)"
         ],
         "legendgroup": "Sd",
         "marker": {
          "color": "#ffff00",
          "line": {
           "color": "DarkSlateGrey",
           "width": 2
          },
          "opacity": 0.95,
          "size": 15,
          "symbol": "circle"
         },
         "mode": "markers",
         "name": "Sd",
         "showlegend": true,
         "type": "scatter",
         "x": [
          25,
          29,
          23
         ],
         "xaxis": "x",
         "y": [
          15,
          10.17,
          5.67
         ],
         "yaxis": "y"
        }
       ],
       "layout": {
        "legend": {
         "title": {
          "text": "Parti"
         },
         "tracegroupgap": 0
        },
        "template": {
         "data": {
          "bar": [
           {
            "error_x": {
             "color": "#2a3f5f"
            },
            "error_y": {
             "color": "#2a3f5f"
            },
            "marker": {
             "line": {
              "color": "#E5ECF6",
              "width": 0.5
             }
            },
            "type": "bar"
           }
          ],
          "barpolar": [
           {
            "marker": {
             "line": {
              "color": "#E5ECF6",
              "width": 0.5
             }
            },
            "type": "barpolar"
           }
          ],
          "carpet": [
           {
            "aaxis": {
             "endlinecolor": "#2a3f5f",
             "gridcolor": "white",
             "linecolor": "white",
             "minorgridcolor": "white",
             "startlinecolor": "#2a3f5f"
            },
            "baxis": {
             "endlinecolor": "#2a3f5f",
             "gridcolor": "white",
             "linecolor": "white",
             "minorgridcolor": "white",
             "startlinecolor": "#2a3f5f"
            },
            "type": "carpet"
           }
          ],
          "choropleth": [
           {
            "colorbar": {
             "outlinewidth": 0,
             "ticks": ""
            },
            "type": "choropleth"
           }
          ],
          "contour": [
           {
            "colorbar": {
             "outlinewidth": 0,
             "ticks": ""
            },
            "colorscale": [
             [
              0,
              "#0d0887"
             ],
             [
              0.1111111111111111,
              "#46039f"
             ],
             [
              0.2222222222222222,
              "#7201a8"
             ],
             [
              0.3333333333333333,
              "#9c179e"
             ],
             [
              0.4444444444444444,
              "#bd3786"
             ],
             [
              0.5555555555555556,
              "#d8576b"
             ],
             [
              0.6666666666666666,
              "#ed7953"
             ],
             [
              0.7777777777777778,
              "#fb9f3a"
             ],
             [
              0.8888888888888888,
              "#fdca26"
             ],
             [
              1,
              "#f0f921"
             ]
            ],
            "type": "contour"
           }
          ],
          "contourcarpet": [
           {
            "colorbar": {
             "outlinewidth": 0,
             "ticks": ""
            },
            "type": "contourcarpet"
           }
          ],
          "heatmap": [
           {
            "colorbar": {
             "outlinewidth": 0,
             "ticks": ""
            },
            "colorscale": [
             [
              0,
              "#0d0887"
             ],
             [
              0.1111111111111111,
              "#46039f"
             ],
             [
              0.2222222222222222,
              "#7201a8"
             ],
             [
              0.3333333333333333,
              "#9c179e"
             ],
             [
              0.4444444444444444,
              "#bd3786"
             ],
             [
              0.5555555555555556,
              "#d8576b"
             ],
             [
              0.6666666666666666,
              "#ed7953"
             ],
             [
              0.7777777777777778,
              "#fb9f3a"
             ],
             [
              0.8888888888888888,
              "#fdca26"
             ],
             [
              1,
              "#f0f921"
             ]
            ],
            "type": "heatmap"
           }
          ],
          "heatmapgl": [
           {
            "colorbar": {
             "outlinewidth": 0,
             "ticks": ""
            },
            "colorscale": [
             [
              0,
              "#0d0887"
             ],
             [
              0.1111111111111111,
              "#46039f"
             ],
             [
              0.2222222222222222,
              "#7201a8"
             ],
             [
              0.3333333333333333,
              "#9c179e"
             ],
             [
              0.4444444444444444,
              "#bd3786"
             ],
             [
              0.5555555555555556,
              "#d8576b"
             ],
             [
              0.6666666666666666,
              "#ed7953"
             ],
             [
              0.7777777777777778,
              "#fb9f3a"
             ],
             [
              0.8888888888888888,
              "#fdca26"
             ],
             [
              1,
              "#f0f921"
             ]
            ],
            "type": "heatmapgl"
           }
          ],
          "histogram": [
           {
            "marker": {
             "colorbar": {
              "outlinewidth": 0,
              "ticks": ""
             }
            },
            "type": "histogram"
           }
          ],
          "histogram2d": [
           {
            "colorbar": {
             "outlinewidth": 0,
             "ticks": ""
            },
            "colorscale": [
             [
              0,
              "#0d0887"
             ],
             [
              0.1111111111111111,
              "#46039f"
             ],
             [
              0.2222222222222222,
              "#7201a8"
             ],
             [
              0.3333333333333333,
              "#9c179e"
             ],
             [
              0.4444444444444444,
              "#bd3786"
             ],
             [
              0.5555555555555556,
              "#d8576b"
             ],
             [
              0.6666666666666666,
              "#ed7953"
             ],
             [
              0.7777777777777778,
              "#fb9f3a"
             ],
             [
              0.8888888888888888,
              "#fdca26"
             ],
             [
              1,
              "#f0f921"
             ]
            ],
            "type": "histogram2d"
           }
          ],
          "histogram2dcontour": [
           {
            "colorbar": {
             "outlinewidth": 0,
             "ticks": ""
            },
            "colorscale": [
             [
              0,
              "#0d0887"
             ],
             [
              0.1111111111111111,
              "#46039f"
             ],
             [
              0.2222222222222222,
              "#7201a8"
             ],
             [
              0.3333333333333333,
              "#9c179e"
             ],
             [
              0.4444444444444444,
              "#bd3786"
             ],
             [
              0.5555555555555556,
              "#d8576b"
             ],
             [
              0.6666666666666666,
              "#ed7953"
             ],
             [
              0.7777777777777778,
              "#fb9f3a"
             ],
             [
              0.8888888888888888,
              "#fdca26"
             ],
             [
              1,
              "#f0f921"
             ]
            ],
            "type": "histogram2dcontour"
           }
          ],
          "mesh3d": [
           {
            "colorbar": {
             "outlinewidth": 0,
             "ticks": ""
            },
            "type": "mesh3d"
           }
          ],
          "parcoords": [
           {
            "line": {
             "colorbar": {
              "outlinewidth": 0,
              "ticks": ""
             }
            },
            "type": "parcoords"
           }
          ],
          "pie": [
           {
            "automargin": true,
            "type": "pie"
           }
          ],
          "scatter": [
           {
            "marker": {
             "colorbar": {
              "outlinewidth": 0,
              "ticks": ""
             }
            },
            "type": "scatter"
           }
          ],
          "scatter3d": [
           {
            "line": {
             "colorbar": {
              "outlinewidth": 0,
              "ticks": ""
             }
            },
            "marker": {
             "colorbar": {
              "outlinewidth": 0,
              "ticks": ""
             }
            },
            "type": "scatter3d"
           }
          ],
          "scattercarpet": [
           {
            "marker": {
             "colorbar": {
              "outlinewidth": 0,
              "ticks": ""
             }
            },
            "type": "scattercarpet"
           }
          ],
          "scattergeo": [
           {
            "marker": {
             "colorbar": {
              "outlinewidth": 0,
              "ticks": ""
             }
            },
            "type": "scattergeo"
           }
          ],
          "scattergl": [
           {
            "marker": {
             "colorbar": {
              "outlinewidth": 0,
              "ticks": ""
             }
            },
            "type": "scattergl"
           }
          ],
          "scattermapbox": [
           {
            "marker": {
             "colorbar": {
              "outlinewidth": 0,
              "ticks": ""
             }
            },
            "type": "scattermapbox"
           }
          ],
          "scatterpolar": [
           {
            "marker": {
             "colorbar": {
              "outlinewidth": 0,
              "ticks": ""
             }
            },
            "type": "scatterpolar"
           }
          ],
          "scatterpolargl": [
           {
            "marker": {
             "colorbar": {
              "outlinewidth": 0,
              "ticks": ""
             }
            },
            "type": "scatterpolargl"
           }
          ],
          "scatterternary": [
           {
            "marker": {
             "colorbar": {
              "outlinewidth": 0,
              "ticks": ""
             }
            },
            "type": "scatterternary"
           }
          ],
          "surface": [
           {
            "colorbar": {
             "outlinewidth": 0,
             "ticks": ""
            },
            "colorscale": [
             [
              0,
              "#0d0887"
             ],
             [
              0.1111111111111111,
              "#46039f"
             ],
             [
              0.2222222222222222,
              "#7201a8"
             ],
             [
              0.3333333333333333,
              "#9c179e"
             ],
             [
              0.4444444444444444,
              "#bd3786"
             ],
             [
              0.5555555555555556,
              "#d8576b"
             ],
             [
              0.6666666666666666,
              "#ed7953"
             ],
             [
              0.7777777777777778,
              "#fb9f3a"
             ],
             [
              0.8888888888888888,
              "#fdca26"
             ],
             [
              1,
              "#f0f921"
             ]
            ],
            "type": "surface"
           }
          ],
          "table": [
           {
            "cells": {
             "fill": {
              "color": "#EBF0F8"
             },
             "line": {
              "color": "white"
             }
            },
            "header": {
             "fill": {
              "color": "#C8D4E3"
             },
             "line": {
              "color": "white"
             }
            },
            "type": "table"
           }
          ]
         },
         "layout": {
          "annotationdefaults": {
           "arrowcolor": "#2a3f5f",
           "arrowhead": 0,
           "arrowwidth": 1
          },
          "coloraxis": {
           "colorbar": {
            "outlinewidth": 0,
            "ticks": ""
           }
          },
          "colorscale": {
           "diverging": [
            [
             0,
             "#8e0152"
            ],
            [
             0.1,
             "#c51b7d"
            ],
            [
             0.2,
             "#de77ae"
            ],
            [
             0.3,
             "#f1b6da"
            ],
            [
             0.4,
             "#fde0ef"
            ],
            [
             0.5,
             "#f7f7f7"
            ],
            [
             0.6,
             "#e6f5d0"
            ],
            [
             0.7,
             "#b8e186"
            ],
            [
             0.8,
             "#7fbc41"
            ],
            [
             0.9,
             "#4d9221"
            ],
            [
             1,
             "#276419"
            ]
           ],
           "sequential": [
            [
             0,
             "#0d0887"
            ],
            [
             0.1111111111111111,
             "#46039f"
            ],
            [
             0.2222222222222222,
             "#7201a8"
            ],
            [
             0.3333333333333333,
             "#9c179e"
            ],
            [
             0.4444444444444444,
             "#bd3786"
            ],
            [
             0.5555555555555556,
             "#d8576b"
            ],
            [
             0.6666666666666666,
             "#ed7953"
            ],
            [
             0.7777777777777778,
             "#fb9f3a"
            ],
            [
             0.8888888888888888,
             "#fdca26"
            ],
            [
             1,
             "#f0f921"
            ]
           ],
           "sequentialminus": [
            [
             0,
             "#0d0887"
            ],
            [
             0.1111111111111111,
             "#46039f"
            ],
            [
             0.2222222222222222,
             "#7201a8"
            ],
            [
             0.3333333333333333,
             "#9c179e"
            ],
            [
             0.4444444444444444,
             "#bd3786"
            ],
            [
             0.5555555555555556,
             "#d8576b"
            ],
            [
             0.6666666666666666,
             "#ed7953"
            ],
            [
             0.7777777777777778,
             "#fb9f3a"
            ],
            [
             0.8888888888888888,
             "#fdca26"
            ],
            [
             1,
             "#f0f921"
            ]
           ]
          },
          "colorway": [
           "#636efa",
           "#EF553B",
           "#00cc96",
           "#ab63fa",
           "#FFA15A",
           "#19d3f3",
           "#FF6692",
           "#B6E880",
           "#FF97FF",
           "#FECB52"
          ],
          "font": {
           "color": "#2a3f5f"
          },
          "geo": {
           "bgcolor": "white",
           "lakecolor": "white",
           "landcolor": "#E5ECF6",
           "showlakes": true,
           "showland": true,
           "subunitcolor": "white"
          },
          "hoverlabel": {
           "align": "left"
          },
          "hovermode": "closest",
          "mapbox": {
           "style": "light"
          },
          "paper_bgcolor": "white",
          "plot_bgcolor": "#E5ECF6",
          "polar": {
           "angularaxis": {
            "gridcolor": "white",
            "linecolor": "white",
            "ticks": ""
           },
           "bgcolor": "#E5ECF6",
           "radialaxis": {
            "gridcolor": "white",
            "linecolor": "white",
            "ticks": ""
           }
          },
          "scene": {
           "xaxis": {
            "backgroundcolor": "#E5ECF6",
            "gridcolor": "white",
            "gridwidth": 2,
            "linecolor": "white",
            "showbackground": true,
            "ticks": "",
            "zerolinecolor": "white"
           },
           "yaxis": {
            "backgroundcolor": "#E5ECF6",
            "gridcolor": "white",
            "gridwidth": 2,
            "linecolor": "white",
            "showbackground": true,
            "ticks": "",
            "zerolinecolor": "white"
           },
           "zaxis": {
            "backgroundcolor": "#E5ECF6",
            "gridcolor": "white",
            "gridwidth": 2,
            "linecolor": "white",
            "showbackground": true,
            "ticks": "",
            "zerolinecolor": "white"
           }
          },
          "shapedefaults": {
           "line": {
            "color": "#2a3f5f"
           }
          },
          "ternary": {
           "aaxis": {
            "gridcolor": "white",
            "linecolor": "white",
            "ticks": ""
           },
           "baxis": {
            "gridcolor": "white",
            "linecolor": "white",
            "ticks": ""
           },
           "bgcolor": "#E5ECF6",
           "caxis": {
            "gridcolor": "white",
            "linecolor": "white",
            "ticks": ""
           }
          },
          "title": {
           "x": 0.05
          },
          "xaxis": {
           "automargin": true,
           "gridcolor": "white",
           "linecolor": "white",
           "ticks": "",
           "title": {
            "standoff": 15
           },
           "zerolinecolor": "white",
           "zerolinewidth": 2
          },
          "yaxis": {
           "automargin": true,
           "gridcolor": "white",
           "linecolor": "white",
           "ticks": "",
           "title": {
            "standoff": 15
           },
           "zerolinecolor": "white",
           "zerolinewidth": 2
          }
         }
        },
        "title": {
         "text": "Svenska partiledare genom århundradena"
        },
        "xaxis": {
         "anchor": "y",
         "domain": [
          0,
          1
         ],
         "title": {
          "text": "Ålder vid tillträde"
         }
        },
        "yaxis": {
         "anchor": "x",
         "domain": [
          0,
          1
         ],
         "title": {
          "text": "Antal år i ämbetet"
         }
        }
       }
      },
      "text/html": [
       "<div>\n",
       "        \n",
       "        \n",
       "            <div id=\"835cffc9-7c3d-4171-87c6-37fba159d693\" class=\"plotly-graph-div\" style=\"height:525px; width:100%;\"></div>\n",
       "            <script type=\"text/javascript\">\n",
       "                require([\"plotly\"], function(Plotly) {\n",
       "                    window.PLOTLYENV=window.PLOTLYENV || {};\n",
       "                    \n",
       "                if (document.getElementById(\"835cffc9-7c3d-4171-87c6-37fba159d693\")) {\n",
       "                    Plotly.newPlot(\n",
       "                        '835cffc9-7c3d-4171-87c6-37fba159d693',\n",
       "                        [{\"hovertemplate\": \"<b>%{hovertext}</b><br><br>Parti=V<br>\\u00c5lder vid tilltr\\u00e4de=%{x}<br>Antal \\u00e5r i \\u00e4mbetet=%{y}<extra></extra>\", \"hovertext\": [\"C.H. Hermansson (1964 - 1975)\", \"Zeth H\\u00f6glund II (1919 - 1924)\", \"Karl Kilbom II (1921 - 1923)\", \"Ernst \\u00c5str\\u00f6m (1918 - 1918)\", \"Karl Kilbom I (1918 - 1918)\", \"Carl Winberg (1917 - 1917)\", \"Zeth H\\u00f6glund I (1917 - 1917)\", \"Karl Kilbom III (1924 - 1929)\", \"Nils Flyg (1924 - 1929)\", \"Hilding Hagberg (1951 - 1964)\", \"Lars Werner (1975 - 1993)\", \"Gudrun Schyman (1993 - 2003)\", \"Ulla Hoffman (2003 - 2004)\", \"Lars Ohly (2004 - 2012)\", \"Jonas Sj\\u00f6stedt (2012 - 2020)\", \"Sven Linderot (1929 - 1951)\"], \"legendgroup\": \"V\", \"marker\": {\"color\": \"#990000\", \"line\": {\"color\": \"DarkSlateGrey\", \"width\": 2}, \"opacity\": 0.95, \"size\": 15, \"symbol\": \"circle\"}, \"mode\": \"markers\", \"name\": \"V\", \"showlegend\": true, \"type\": \"scatter\", \"x\": [46, 34, 35, 41, 32, 49, 32, 38, 32, 51, 39, 44, 60, 47, 47, 39], \"xaxis\": \"x\", \"y\": [11.17, 5.0, 2.0, 0.92, 0.92, 0.92, 0.92, 5.0, 5.0, 13.0, 17.75, 10.0, 1.0, 7.83, 8.33, 22.0], \"yaxis\": \"y\"}, {\"hovertemplate\": \"<b>%{hovertext}</b><br><br>Parti=S<br>\\u00c5lder vid tilltr\\u00e4de=%{x}<br>Antal \\u00e5r i \\u00e4mbetet=%{y}<extra></extra>\", \"hovertext\": [\"G\\u00f6ran Persson (1996 - 2007)\", \"Claes Tholin (1896 - 1907)\", \"Mona Sahlin (2007 - 2011)\", \"Ingvar Carlsson (1986 - 1996)\", \"H\\u00e5kan Juholt (2011 - 2012)\", \"Tage Erlander (1946 - 1969)\", \"Per Albin Hansson (1925 - 1946)\", \"Hjalmar Branting (1907 - 1920)\", \"Stefan L\\u00f6fven (2012 - 2020)\", \"Olof Palme (1969 - 1986)\"], \"legendgroup\": \"S\", \"marker\": {\"color\": \"#ff3300\", \"line\": {\"color\": \"DarkSlateGrey\", \"width\": 2}, \"opacity\": 0.95, \"size\": 15, \"symbol\": \"circle\"}, \"mode\": \"markers\", \"name\": \"S\", \"showlegend\": true, \"type\": \"scatter\", \"x\": [47, 35, 50, 51, 48, 45, 39, 46, 54, 42], \"xaxis\": \"x\", \"y\": [11.0, 11.0, 4.0, 10.0, 0.75, 22.92, 21.67, 13.75, 8.25, 16.33], \"yaxis\": \"y\"}, {\"hovertemplate\": \"<b>%{hovertext}</b><br><br>Parti=Mp<br>\\u00c5lder vid tilltr\\u00e4de=%{x}<br>Antal \\u00e5r i \\u00e4mbetet=%{y}<extra></extra>\", \"hovertext\": [\"Per Bolund (2019 - 2020)\", \"Isabella L\\u00f6vin (2016 - 2020)\", \"Matz Hammarstr\\u00f6m (2000 - 2002)\", \"\\u00c5sa Romson (2011 - 2016)\", \"Margareta Gisselberg (1990 - 1991)\", \"Gustav Fridolin (2011 - 2019)\", \"Ragnhild Pohanka (1984 - 1986)\", \"Per Gahrton (1984 - 1985)\", \"Eva Go\\u00ebs (1986 - 1988)\", \"Fiona Bj\\u00f6rling (1988 - 1990)\", \"Birger Schlaug I (1985 - 1988)\", \"Jan Axelsson (1990 - 1992)\", \"Marianne Samuelsson (1992 - 1999)\", \"Birger Schlaug II (1992 - 2000)\", \"Lotta Hedstr\\u00f6m (1999 - 2002)\", \"Peter Eriksson (2002 - 2011)\", \"Maria Wetterstrand (2002 - 2011)\", \"Anders Nordin (1988 - 1990)\"], \"legendgroup\": \"Mp\", \"marker\": {\"color\": \"#408000\", \"line\": {\"color\": \"DarkSlateGrey\", \"width\": 2}, \"opacity\": 0.95, \"size\": 15, \"symbol\": \"circle\"}, \"mode\": \"markers\", \"name\": \"Mp\", \"showlegend\": true, \"type\": \"scatter\", \"x\": [47, 53, 40, 39, 51, 28, 52, 41, 38, 44, 36, 51, 46, 43, 43, 43, 28, 39], \"xaxis\": \"x\", \"y\": [1.0, 3.92, 1.92, 4.92, 1.17, 7.92, 1.92, 1.25, 2.33, 1.67, 2.92, 1.83, 7.0, 8.08, 2.92, 9.0, 9.0, 1.67], \"yaxis\": \"y\"}, {\"hovertemplate\": \"<b>%{hovertext}</b><br><br>Parti=C<br>\\u00c5lder vid tilltr\\u00e4de=%{x}<br>Antal \\u00e5r i \\u00e4mbetet=%{y}<extra></extra>\", \"hovertext\": [\"Olof Johansson (1987 - 1998)\", \"Thorbj\\u00f6rn F\\u00e4lldin (1971 - 1985)\", \"Annie L\\u00f6\\u00f6f (2011 - 2020)\", \"Maud Olofsson (2001 - 2011)\", \"Lennart Dal\\u00e9us (1998 - 2001)\", \"Karin S\\u00f6der (1985 - 1987)\", \"Johan Anderson i Rakl\\u00f6sen (1920 - 1924)\", \"Axel Pehrsson (1934 - 1949)\", \"Olof Olsson i Kullenbergstorp (1929 - 1934)\", \"Johan Johansson i K\\u00e4lkebo (1924 - 1928)\", \"Gunnar Hedlund (1949 - 1971)\", \"Erik Eriksson i Spraxkya (1916 - 1919)\"], \"legendgroup\": \"C\", \"marker\": {\"color\": \"#8cff66\", \"line\": {\"color\": \"DarkSlateGrey\", \"width\": 2}, \"opacity\": 0.95, \"size\": 15, \"symbol\": \"circle\"}, \"mode\": \"markers\", \"name\": \"C\", \"showlegend\": true, \"type\": \"scatter\", \"x\": [49, 45, 28, 45, 52, 57, 53, 50, 69, 57, 48, 51], \"xaxis\": \"x\", \"y\": [11.42, 14.5, 8.58, 10.5, 2.58, 1.0, 4.0, 15.0, 5.42, 4.0, 22.0, 3.0], \"yaxis\": \"y\"}, {\"hovertemplate\": \"<b>%{hovertext}</b><br><br>Parti=L<br>\\u00c5lder vid tilltr\\u00e4de=%{x}<br>Antal \\u00e5r i \\u00e4mbetet=%{y}<extra></extra>\", \"hovertext\": [\"Felix Hamrin (1934 - 1935)\", \"Gustaf Andersson i Rasj\\u00f6n (1935 - 1944)\", \"Bertil Ohlin (1944 - 1967)\", \"Sven Wed\\u00e9n (1967 - 1969)\", \"Ola Ullsten (1978 - 1983)\", \"Per Ahlmark (1975 - 1978)\", \"Maria Leissner (1995 - 1997)\", \"Lars Leijonborg (1997 - 2007)\", \"Jan Bj\\u00f6rklund (2007 - 2019)\", \"Nyamko Sabuni (2019 - 2020)\", \"Gunnar Hel\\u00e9n (1969 - 1975)\", \"Bengt Westerberg (1983 - 1995)\"], \"legendgroup\": \"L\", \"marker\": {\"color\": \"#99ccff\", \"line\": {\"color\": \"DarkSlateGrey\", \"width\": 2}, \"opacity\": 0.95, \"size\": 15, \"symbol\": \"circle\"}, \"mode\": \"markers\", \"name\": \"L\", \"showlegend\": true, \"type\": \"scatter\", \"x\": [59, 50, 45, 53, 46, 36, 39, 47, 45, 50, 51, 40], \"xaxis\": \"x\", \"y\": [0.42, 9.67, 22.67, 2.25, 5.5, 2.25, 2.08, 10.42, 11.75, 0.83, 6.0, 11.33], \"yaxis\": \"y\"}, {\"hovertemplate\": \"<b>%{hovertext}</b><br><br>Parti=M<br>\\u00c5lder vid tilltr\\u00e4de=%{x}<br>Antal \\u00e5r i \\u00e4mbetet=%{y}<extra></extra>\", \"hovertext\": [\"Jarl Hjalmarson (1950 - 1961)\", \"Hugo Tamm (1907 - 1907)\", \"Gustaf Fredrik \\u00d6stberg II (1908 - 1912)\", \"Arvid Lindman (1912 - 1935)\", \"G\\u00f6sta Bagge (1935 - 1944)\", \"Gunnar Heckscher (1961 - 1965)\", \"Fritiof Dom\\u00f6 (1944 - 1950)\", \"Gustaf Fredrik \\u00d6stberg I (1908 - 1912)\", \"Ulf Kristersson (2017 - 2020)\", \"G\\u00f6sta Bohman (1970 - 1981)\", \"Axel Svedelius (1905 - 1906)\", \"Bo Lundgren (1999 - 2003)\", \"Ulf Adelsohn (1981 - 1986)\", \"Fredrik Reinfeldt (2003 - 2015)\", \"Carl Bildt (1986 - 1999)\", \"Anna Kinberg Batra (2015 - 2017)\", \"Yngve Holmberg (1965 - 1970)\"], \"legendgroup\": \"M\", \"marker\": {\"color\": \"#0066ff\", \"line\": {\"color\": \"DarkSlateGrey\", \"width\": 2}, \"opacity\": 0.95, \"size\": 15, \"symbol\": \"circle\"}, \"mode\": \"markers\", \"name\": \"M\", \"showlegend\": true, \"type\": \"scatter\", \"x\": [45, 66, 60, 49, 53, 51, 54, 60, 53, 59, 68, 52, 40, 38, 37, 44, 39], \"xaxis\": \"x\", \"y\": [11.0, 0.92, 4.0, 23.42, 8.58, 4.0, 6.0, 4.0, 2.58, 10.92, 1.92, 4.08, 4.75, 11.17, 13.0, 2.67, 5.83], \"yaxis\": \"y\"}, {\"hovertemplate\": \"<b>%{hovertext}</b><br><br>Parti=Kd<br>\\u00c5lder vid tilltr\\u00e4de=%{x}<br>Antal \\u00e5r i \\u00e4mbetet=%{y}<extra></extra>\", \"hovertext\": [\"Birger Ekstedt (1964 - 1972)\", \"Alf Svensson (1973 - 2004)\", \"G\\u00f6ran H\\u00e4gglunf (2004 - 2015)\", \"Ebba Busch (2015 - 2020)\"], \"legendgroup\": \"Kd\", \"marker\": {\"color\": \"#000099\", \"line\": {\"color\": \"DarkSlateGrey\", \"width\": 2}, \"opacity\": 0.95, \"size\": 15, \"symbol\": \"circle\"}, \"mode\": \"markers\", \"name\": \"Kd\", \"showlegend\": true, \"type\": \"scatter\", \"x\": [42, 34, 45, 28], \"xaxis\": \"x\", \"y\": [8.5, 30.67, 11.0, 5.0], \"yaxis\": \"y\"}, {\"hovertemplate\": \"<b>%{hovertext}</b><br><br>Parti=Sd<br>\\u00c5lder vid tilltr\\u00e4de=%{x}<br>Antal \\u00e5r i \\u00e4mbetet=%{y}<extra></extra>\", \"hovertext\": [\"Jimmie \\u00c5kesson (2005 - 2020)\", \"Mikael Jansson (1995 - 2005)\", \"Anders Klarstr\\u00f6m (1989 - 1995)\"], \"legendgroup\": \"Sd\", \"marker\": {\"color\": \"#ffff00\", \"line\": {\"color\": \"DarkSlateGrey\", \"width\": 2}, \"opacity\": 0.95, \"size\": 15, \"symbol\": \"circle\"}, \"mode\": \"markers\", \"name\": \"Sd\", \"showlegend\": true, \"type\": \"scatter\", \"x\": [25, 29, 23], \"xaxis\": \"x\", \"y\": [15.0, 10.17, 5.67], \"yaxis\": \"y\"}],\n",
       "                        {\"legend\": {\"title\": {\"text\": \"Parti\"}, \"tracegroupgap\": 0}, \"template\": {\"data\": {\"bar\": [{\"error_x\": {\"color\": \"#2a3f5f\"}, \"error_y\": {\"color\": \"#2a3f5f\"}, \"marker\": {\"line\": {\"color\": \"#E5ECF6\", \"width\": 0.5}}, \"type\": \"bar\"}], \"barpolar\": [{\"marker\": {\"line\": {\"color\": \"#E5ECF6\", \"width\": 0.5}}, \"type\": \"barpolar\"}], \"carpet\": [{\"aaxis\": {\"endlinecolor\": \"#2a3f5f\", \"gridcolor\": \"white\", \"linecolor\": \"white\", \"minorgridcolor\": \"white\", \"startlinecolor\": \"#2a3f5f\"}, \"baxis\": {\"endlinecolor\": \"#2a3f5f\", \"gridcolor\": \"white\", \"linecolor\": \"white\", \"minorgridcolor\": \"white\", \"startlinecolor\": \"#2a3f5f\"}, \"type\": \"carpet\"}], \"choropleth\": [{\"colorbar\": {\"outlinewidth\": 0, \"ticks\": \"\"}, \"type\": \"choropleth\"}], \"contour\": [{\"colorbar\": {\"outlinewidth\": 0, \"ticks\": \"\"}, \"colorscale\": [[0.0, \"#0d0887\"], [0.1111111111111111, \"#46039f\"], [0.2222222222222222, \"#7201a8\"], [0.3333333333333333, \"#9c179e\"], [0.4444444444444444, \"#bd3786\"], [0.5555555555555556, \"#d8576b\"], [0.6666666666666666, \"#ed7953\"], [0.7777777777777778, \"#fb9f3a\"], [0.8888888888888888, \"#fdca26\"], [1.0, \"#f0f921\"]], \"type\": \"contour\"}], \"contourcarpet\": [{\"colorbar\": {\"outlinewidth\": 0, \"ticks\": \"\"}, \"type\": \"contourcarpet\"}], \"heatmap\": [{\"colorbar\": {\"outlinewidth\": 0, \"ticks\": \"\"}, \"colorscale\": [[0.0, \"#0d0887\"], [0.1111111111111111, \"#46039f\"], [0.2222222222222222, \"#7201a8\"], [0.3333333333333333, \"#9c179e\"], [0.4444444444444444, \"#bd3786\"], [0.5555555555555556, \"#d8576b\"], [0.6666666666666666, \"#ed7953\"], [0.7777777777777778, \"#fb9f3a\"], [0.8888888888888888, \"#fdca26\"], [1.0, \"#f0f921\"]], \"type\": \"heatmap\"}], \"heatmapgl\": [{\"colorbar\": {\"outlinewidth\": 0, \"ticks\": \"\"}, \"colorscale\": [[0.0, \"#0d0887\"], [0.1111111111111111, \"#46039f\"], [0.2222222222222222, \"#7201a8\"], [0.3333333333333333, \"#9c179e\"], [0.4444444444444444, \"#bd3786\"], [0.5555555555555556, \"#d8576b\"], [0.6666666666666666, \"#ed7953\"], [0.7777777777777778, \"#fb9f3a\"], [0.8888888888888888, \"#fdca26\"], [1.0, \"#f0f921\"]], \"type\": \"heatmapgl\"}], \"histogram\": [{\"marker\": {\"colorbar\": {\"outlinewidth\": 0, \"ticks\": \"\"}}, \"type\": \"histogram\"}], \"histogram2d\": [{\"colorbar\": {\"outlinewidth\": 0, \"ticks\": \"\"}, \"colorscale\": [[0.0, \"#0d0887\"], [0.1111111111111111, \"#46039f\"], [0.2222222222222222, \"#7201a8\"], [0.3333333333333333, \"#9c179e\"], [0.4444444444444444, \"#bd3786\"], [0.5555555555555556, \"#d8576b\"], [0.6666666666666666, \"#ed7953\"], [0.7777777777777778, \"#fb9f3a\"], [0.8888888888888888, \"#fdca26\"], [1.0, \"#f0f921\"]], \"type\": \"histogram2d\"}], \"histogram2dcontour\": [{\"colorbar\": {\"outlinewidth\": 0, \"ticks\": \"\"}, \"colorscale\": [[0.0, \"#0d0887\"], [0.1111111111111111, \"#46039f\"], [0.2222222222222222, \"#7201a8\"], [0.3333333333333333, \"#9c179e\"], [0.4444444444444444, \"#bd3786\"], [0.5555555555555556, \"#d8576b\"], [0.6666666666666666, \"#ed7953\"], [0.7777777777777778, \"#fb9f3a\"], [0.8888888888888888, \"#fdca26\"], [1.0, \"#f0f921\"]], \"type\": \"histogram2dcontour\"}], \"mesh3d\": [{\"colorbar\": {\"outlinewidth\": 0, \"ticks\": \"\"}, \"type\": \"mesh3d\"}], \"parcoords\": [{\"line\": {\"colorbar\": {\"outlinewidth\": 0, \"ticks\": \"\"}}, \"type\": \"parcoords\"}], \"pie\": [{\"automargin\": true, \"type\": \"pie\"}], \"scatter\": [{\"marker\": {\"colorbar\": {\"outlinewidth\": 0, \"ticks\": \"\"}}, \"type\": \"scatter\"}], \"scatter3d\": [{\"line\": {\"colorbar\": {\"outlinewidth\": 0, \"ticks\": \"\"}}, \"marker\": {\"colorbar\": {\"outlinewidth\": 0, \"ticks\": \"\"}}, \"type\": \"scatter3d\"}], \"scattercarpet\": [{\"marker\": {\"colorbar\": {\"outlinewidth\": 0, \"ticks\": \"\"}}, \"type\": \"scattercarpet\"}], \"scattergeo\": [{\"marker\": {\"colorbar\": {\"outlinewidth\": 0, \"ticks\": \"\"}}, \"type\": \"scattergeo\"}], \"scattergl\": [{\"marker\": {\"colorbar\": {\"outlinewidth\": 0, \"ticks\": \"\"}}, \"type\": \"scattergl\"}], \"scattermapbox\": [{\"marker\": {\"colorbar\": {\"outlinewidth\": 0, \"ticks\": \"\"}}, \"type\": \"scattermapbox\"}], \"scatterpolar\": [{\"marker\": {\"colorbar\": {\"outlinewidth\": 0, \"ticks\": \"\"}}, \"type\": \"scatterpolar\"}], \"scatterpolargl\": [{\"marker\": {\"colorbar\": {\"outlinewidth\": 0, \"ticks\": \"\"}}, \"type\": \"scatterpolargl\"}], \"scatterternary\": [{\"marker\": {\"colorbar\": {\"outlinewidth\": 0, \"ticks\": \"\"}}, \"type\": \"scatterternary\"}], \"surface\": [{\"colorbar\": {\"outlinewidth\": 0, \"ticks\": \"\"}, \"colorscale\": [[0.0, \"#0d0887\"], [0.1111111111111111, \"#46039f\"], [0.2222222222222222, \"#7201a8\"], [0.3333333333333333, \"#9c179e\"], [0.4444444444444444, \"#bd3786\"], [0.5555555555555556, \"#d8576b\"], [0.6666666666666666, \"#ed7953\"], [0.7777777777777778, \"#fb9f3a\"], [0.8888888888888888, \"#fdca26\"], [1.0, \"#f0f921\"]], \"type\": \"surface\"}], \"table\": [{\"cells\": {\"fill\": {\"color\": \"#EBF0F8\"}, \"line\": {\"color\": \"white\"}}, \"header\": {\"fill\": {\"color\": \"#C8D4E3\"}, \"line\": {\"color\": \"white\"}}, \"type\": \"table\"}]}, \"layout\": {\"annotationdefaults\": {\"arrowcolor\": \"#2a3f5f\", \"arrowhead\": 0, \"arrowwidth\": 1}, \"coloraxis\": {\"colorbar\": {\"outlinewidth\": 0, \"ticks\": \"\"}}, \"colorscale\": {\"diverging\": [[0, \"#8e0152\"], [0.1, \"#c51b7d\"], [0.2, \"#de77ae\"], [0.3, \"#f1b6da\"], [0.4, \"#fde0ef\"], [0.5, \"#f7f7f7\"], [0.6, \"#e6f5d0\"], [0.7, \"#b8e186\"], [0.8, \"#7fbc41\"], [0.9, \"#4d9221\"], [1, \"#276419\"]], \"sequential\": [[0.0, \"#0d0887\"], [0.1111111111111111, \"#46039f\"], [0.2222222222222222, \"#7201a8\"], [0.3333333333333333, \"#9c179e\"], [0.4444444444444444, \"#bd3786\"], [0.5555555555555556, \"#d8576b\"], [0.6666666666666666, \"#ed7953\"], [0.7777777777777778, \"#fb9f3a\"], [0.8888888888888888, \"#fdca26\"], [1.0, \"#f0f921\"]], \"sequentialminus\": [[0.0, \"#0d0887\"], [0.1111111111111111, \"#46039f\"], [0.2222222222222222, \"#7201a8\"], [0.3333333333333333, \"#9c179e\"], [0.4444444444444444, \"#bd3786\"], [0.5555555555555556, \"#d8576b\"], [0.6666666666666666, \"#ed7953\"], [0.7777777777777778, \"#fb9f3a\"], [0.8888888888888888, \"#fdca26\"], [1.0, \"#f0f921\"]]}, \"colorway\": [\"#636efa\", \"#EF553B\", \"#00cc96\", \"#ab63fa\", \"#FFA15A\", \"#19d3f3\", \"#FF6692\", \"#B6E880\", \"#FF97FF\", \"#FECB52\"], \"font\": {\"color\": \"#2a3f5f\"}, \"geo\": {\"bgcolor\": \"white\", \"lakecolor\": \"white\", \"landcolor\": \"#E5ECF6\", \"showlakes\": true, \"showland\": true, \"subunitcolor\": \"white\"}, \"hoverlabel\": {\"align\": \"left\"}, \"hovermode\": \"closest\", \"mapbox\": {\"style\": \"light\"}, \"paper_bgcolor\": \"white\", \"plot_bgcolor\": \"#E5ECF6\", \"polar\": {\"angularaxis\": {\"gridcolor\": \"white\", \"linecolor\": \"white\", \"ticks\": \"\"}, \"bgcolor\": \"#E5ECF6\", \"radialaxis\": {\"gridcolor\": \"white\", \"linecolor\": \"white\", \"ticks\": \"\"}}, \"scene\": {\"xaxis\": {\"backgroundcolor\": \"#E5ECF6\", \"gridcolor\": \"white\", \"gridwidth\": 2, \"linecolor\": \"white\", \"showbackground\": true, \"ticks\": \"\", \"zerolinecolor\": \"white\"}, \"yaxis\": {\"backgroundcolor\": \"#E5ECF6\", \"gridcolor\": \"white\", \"gridwidth\": 2, \"linecolor\": \"white\", \"showbackground\": true, \"ticks\": \"\", \"zerolinecolor\": \"white\"}, \"zaxis\": {\"backgroundcolor\": \"#E5ECF6\", \"gridcolor\": \"white\", \"gridwidth\": 2, \"linecolor\": \"white\", \"showbackground\": true, \"ticks\": \"\", \"zerolinecolor\": \"white\"}}, \"shapedefaults\": {\"line\": {\"color\": \"#2a3f5f\"}}, \"ternary\": {\"aaxis\": {\"gridcolor\": \"white\", \"linecolor\": \"white\", \"ticks\": \"\"}, \"baxis\": {\"gridcolor\": \"white\", \"linecolor\": \"white\", \"ticks\": \"\"}, \"bgcolor\": \"#E5ECF6\", \"caxis\": {\"gridcolor\": \"white\", \"linecolor\": \"white\", \"ticks\": \"\"}}, \"title\": {\"x\": 0.05}, \"xaxis\": {\"automargin\": true, \"gridcolor\": \"white\", \"linecolor\": \"white\", \"ticks\": \"\", \"title\": {\"standoff\": 15}, \"zerolinecolor\": \"white\", \"zerolinewidth\": 2}, \"yaxis\": {\"automargin\": true, \"gridcolor\": \"white\", \"linecolor\": \"white\", \"ticks\": \"\", \"title\": {\"standoff\": 15}, \"zerolinecolor\": \"white\", \"zerolinewidth\": 2}}}, \"title\": {\"text\": \"Svenska partiledare genom \\u00e5rhundradena\"}, \"xaxis\": {\"anchor\": \"y\", \"domain\": [0.0, 1.0], \"title\": {\"text\": \"\\u00c5lder vid tilltr\\u00e4de\"}}, \"yaxis\": {\"anchor\": \"x\", \"domain\": [0.0, 1.0], \"title\": {\"text\": \"Antal \\u00e5r i \\u00e4mbetet\"}}},\n",
       "                        {\"responsive\": true}\n",
       "                    ).then(function(){\n",
       "                            \n",
       "var gd = document.getElementById('835cffc9-7c3d-4171-87c6-37fba159d693');\n",
       "var x = new MutationObserver(function (mutations, observer) {{\n",
       "        var display = window.getComputedStyle(gd).display;\n",
       "        if (!display || display === 'none') {{\n",
       "            console.log([gd, 'removed!']);\n",
       "            Plotly.purge(gd);\n",
       "            observer.disconnect();\n",
       "        }}\n",
       "}});\n",
       "\n",
       "// Listen for the removal of the full notebook cells\n",
       "var notebookContainer = gd.closest('#notebook-container');\n",
       "if (notebookContainer) {{\n",
       "    x.observe(notebookContainer, {childList: true});\n",
       "}}\n",
       "\n",
       "// Listen for the clearing of the current output cell\n",
       "var outputEl = gd.closest('.output');\n",
       "if (outputEl) {{\n",
       "    x.observe(outputEl, {childList: true});\n",
       "}}\n",
       "\n",
       "                        })\n",
       "                };\n",
       "                });\n",
       "            </script>\n",
       "        </div>"
      ]
     },
     "metadata": {},
     "output_type": "display_data"
    }
   ],
   "source": [
    "\n",
    "\n",
    "def transform_date_string_to_datetime_object(entry):\n",
    "    '''\n",
    "    :param string: format 'YYYY-MM-DD'\n",
    "    :return: datetime\n",
    "    '''\n",
    "    if isinstance(entry, str):\n",
    "        return datetime.strptime(entry, '%Y-%m-%d')\n",
    "    else:\n",
    "        return entry\n",
    "\n",
    "party_leaders[['death_date',\n",
    "               'assumed_office',\n",
    "               'left_office']] = party_leaders[['death_date',\n",
    "                                                'assumed_office',\n",
    "                                                'left_office']].fillna(datetime.today())\n",
    "# transforming date strings to datetime objects\n",
    "party_leaders['birth_date'] = party_leaders.apply(lambda row: \\\n",
    "                              transform_date_string_to_datetime_object(row['birth_date']), axis = 1)\n",
    "party_leaders['death_date'] = party_leaders.apply(lambda row: \\\n",
    "                              transform_date_string_to_datetime_object(row['death_date']), axis = 1)\n",
    "party_leaders['left_office'] = party_leaders.apply(lambda row: \\\n",
    "                              transform_date_string_to_datetime_object(row['left_office']), axis = 1)\n",
    "party_leaders['assumed_office'] = party_leaders.apply(lambda row: \\\n",
    "                              transform_date_string_to_datetime_object(row['assumed_office']), axis = 1)\n",
    "# calculating age when party leader assumed office and time in office in years\n",
    "party_leaders['age_when_assumed_office'] = party_leaders.apply(lambda row: \\\n",
    "                                           relativedelta(row['assumed_office'],\n",
    "                                                         row['birth_date']).years,\n",
    "                                           axis = 1)\n",
    "party_leaders['years_in_office'] = party_leaders.apply(lambda row: \\\n",
    "                                          np.round((relativedelta(row['left_office'],\n",
    "                                                         row['assumed_office']).years * 12 + \\\n",
    "                                           relativedelta(row['left_office'],\n",
    "                                                         row['assumed_office']).months) / 12, 2),\n",
    "                                           axis = 1)\n",
    "# concatenate first name and surname\n",
    "party_leaders['full_name'] = party_leaders.apply(lambda row: row['name'] + ' ' + row['surname'],\n",
    "                                                 axis = 1)\n",
    "\n",
    "# concatenate full name and years in office\n",
    "party_leaders['full_name_years_in_office'] = party_leaders.apply(\\\n",
    "                                            lambda row: row['full_name'] + \\\n",
    "                                                        ' (' + str(row['assumed_office'].year) + \\\n",
    "                                                         ' - ' + str(row['left_office'].year) + ')' ,\n",
    "                                                 axis = 1)\n",
    "\n",
    "# order by political affiliation (left-wing to right-wing)\n",
    "party_leaders['party_abr'] = pd.Categorical(party_leaders['party_abr'],\n",
    "                                            ['V', 'S', 'Mp', 'C', 'L', 'M', 'Kd', 'Sd' ])\n",
    "party_leaders.sort_values('party_abr', inplace = True)\n",
    "\n",
    "fig = px.scatter(party_leaders,\n",
    "                 title='Svenska partiledare genom århundradena',\n",
    "                 x='age_when_assumed_office',\n",
    "                 y='years_in_office',\n",
    "                 hover_name='full_name_years_in_office',\n",
    "                 color='party_abr',\n",
    "                 color_discrete_map={'L': '#99ccff',\n",
    "                                     'M': '#0066ff',\n",
    "                                     'S': '#ff3300',\n",
    "                                     'Mp': '#408000',\n",
    "                                     'Kd': '#000099',\n",
    "                                     'C': '#8cff66',\n",
    "                                     'V': '#990000',\n",
    "                                     'Sd' : '#ffff00'\n",
    "                                     },\n",
    "                 #symbol='sex',\n",
    "                 #symbol_map={'m':'circle',\n",
    "                 #            'k':'diamond'},\n",
    "                 labels={'age_when_assumed_office':u'Ålder vid tillträde',\n",
    "                         'years_in_office':'Antal år i ämbetet',\n",
    "                         'party_abr':'Parti'}\n",
    "                 )\n",
    "fig.update_traces(marker=dict(size=15,\n",
    "                              symbol= 'circle',\n",
    "                              line=dict(width=2,\n",
    "                                        color='DarkSlateGrey'),\n",
    "                              opacity = 0.95),\n",
    "                  selector=dict(mode='markers')\n",
    "                  )\n",
    "fig.show()"
   ]
  },
  {
   "cell_type": "code",
   "execution_count": 25,
   "metadata": {},
   "outputs": [
    {
     "data": {
      "text/plain": [
       "'https://plotly.com/~haschischa/1/'"
      ]
     },
     "execution_count": 25,
     "metadata": {},
     "output_type": "execute_result"
    }
   ],
   "source": [
    "import chart_studio\n",
    "username = 'haschischa'\n",
    "api_key = 'esXQhgTeCu2sZqSr4k5N'\n",
    "chart_studio.tools.set_credentials_file(username=username, api_key=api_key)\n",
    "import chart_studio.plotly as py\n",
    "py.plot(fig, filename = 'party_leaders_swe', auto_open=True)"
   ]
  },
  {
   "cell_type": "code",
   "execution_count": 28,
   "metadata": {},
   "outputs": [
    {
     "data": {
      "text/plain": [
       "'<iframe id=\"igraph\" scrolling=\"no\" style=\"border:none;\" seamless=\"seamless\" src=\"https://plotly.com/~haschischa/1.embed\" height=\"525\" width=\"100%\"></iframe>'"
      ]
     },
     "execution_count": 28,
     "metadata": {},
     "output_type": "execute_result"
    }
   ],
   "source": [
    "chart_studio.tools.get_embed('https://plotly.com/~haschischa/1/')"
   ]
  },
  {
   "cell_type": "code",
   "execution_count": null,
   "metadata": {},
   "outputs": [],
   "source": [
    "<iframe id=\"igraph\" scrolling=\"no\" style=\"border:none;\" \n",
    "seamless=\"seamless\" src=\"https://plotly.com/~haschischa/1.embed\" height=\"525\" width=\"200%\"></iframe>"
   ]
  },
  {
   "cell_type": "markdown",
   "metadata": {},
   "source": [
    "'<iframe id=\"igraph\" scrolling=\"no\" style=\"border:none;\" seamless=\"seamless\" src=\"https://plotly.com/~haschischa/1.embed\" height=\"525\" width=\"100%\"></iframe>'"
   ]
  }
 ],
 "metadata": {
  "kernelspec": {
   "display_name": "Python 3",
   "language": "python",
   "name": "python3"
  },
  "language_info": {
   "codemirror_mode": {
    "name": "ipython",
    "version": 3
   },
   "file_extension": ".py",
   "mimetype": "text/x-python",
   "name": "python",
   "nbconvert_exporter": "python",
   "pygments_lexer": "ipython3",
   "version": "3.8.2"
  },
  "nikola": {
   "category": "",
   "date": "2020-05-10 20:30:43 UTC+02:00",
   "description": "",
   "link": "",
   "slug": "jupyter-post",
   "tags": "",
   "title": "Jupyter post",
   "type": "text"
  }
 },
 "nbformat": 4,
 "nbformat_minor": 4
}
