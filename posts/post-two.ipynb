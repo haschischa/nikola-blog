{
 "cells": [
  {
   "cell_type": "markdown",
   "metadata": {},
   "source": [
    "This is an updated blog post to see how nikola manages updating and deploying to GitHub."
   ]
  }
 ],
 "metadata": {
  "kernelspec": {
   "display_name": "Python 3",
   "language": "python",
   "name": "python3"
  },
  "language_info": {
   "codemirror_mode": {
    "name": "ipython",
    "version": 3
   },
   "file_extension": ".py",
   "mimetype": "text/x-python",
   "name": "python",
   "nbconvert_exporter": "python",
   "pygments_lexer": "ipython3",
   "version": "3.8.2"
  },
  "nikola": {
   "category": "",
   "date": "2020-05-11 16:47:00 UTC+02:00",
   "description": "",
   "link": "",
   "slug": "post-two",
   "tags": "",
   "title": "Update - second post",
   "type": "text"
  }
 },
 "nbformat": 4,
 "nbformat_minor": 4
}
