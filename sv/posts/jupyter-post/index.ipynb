{
 "cells": [
  {
   "cell_type": "markdown",
   "metadata": {},
   "source": [
    "Jupyter experimenting"
   ]
  },
  {
   "cell_type": "code",
   "execution_count": 1,
   "metadata": {},
   "outputs": [
    {
     "name": "stdout",
     "output_type": "stream",
     "text": [
      "     name surname  birth_date death_date               party party_abr  \\\n",
      "0  Stefan  Löfven  1957-07-21        NaN  Socialdemokraterna         S   \n",
      "1   Håkan  Juholt  1962-09-16        NaN  Socialdemokraterna         S   \n",
      "2    Mona  Sahlin  1957-03-09        NaN  Socialdemokraterna         S   \n",
      "\n",
      "  assumed_office left_office sex city region  \n",
      "0     2012-01-27         NaN   m  NaN    NaN  \n",
      "1     2011-03-25  2012-01-21   m  NaN    NaN  \n",
      "2     2007-03-17  2011-03-25   k  NaN    NaN  \n"
     ]
    }
   ],
   "source": [
    "import pandas as pd\n",
    "import plotly.express as px\n",
    "import plotly.graph_objects as go\n",
    "import plotly.io as pio\n",
    "import chart_studio as cs\n",
    "import numpy as np\n",
    "import re\n",
    "from datetime import datetime\n",
    "from dateutil.relativedelta import relativedelta                     \n",
    "import plotly.tools as tls\n",
    "from IPython.display import HTML\n",
    "\n",
    "party_leaders = pd.read_csv('swedish_party_leaders.csv', header=0)\n",
    "print(party_leaders.head(3))"
   ]
  },
  {
   "cell_type": "code",
   "execution_count": 9,
   "metadata": {},
   "outputs": [],
   "source": [
    "\n",
    "\n",
    "def transform_date_string_to_datetime_object(entry):\n",
    "    '''\n",
    "    :param string: format 'YYYY-MM-DD'\n",
    "    :return: datetime\n",
    "    '''\n",
    "    if isinstance(entry, str):\n",
    "        return datetime.strptime(entry, '%Y-%m-%d')\n",
    "    else:\n",
    "        return entry\n",
    "\n",
    "party_leaders[['death_date',\n",
    "               'assumed_office',\n",
    "               'left_office']] = party_leaders[['death_date',\n",
    "                                                'assumed_office',\n",
    "                                                'left_office']].fillna(datetime.today())\n",
    "# transforming date strings to datetime objects\n",
    "party_leaders['birth_date'] = party_leaders.apply(lambda row: \\\n",
    "                              transform_date_string_to_datetime_object(row['birth_date']), axis = 1)\n",
    "party_leaders['death_date'] = party_leaders.apply(lambda row: \\\n",
    "                              transform_date_string_to_datetime_object(row['death_date']), axis = 1)\n",
    "party_leaders['left_office'] = party_leaders.apply(lambda row: \\\n",
    "                              transform_date_string_to_datetime_object(row['left_office']), axis = 1)\n",
    "party_leaders['assumed_office'] = party_leaders.apply(lambda row: \\\n",
    "                              transform_date_string_to_datetime_object(row['assumed_office']), axis = 1)\n",
    "# calculating age when party leader assumed office and time in office in years\n",
    "party_leaders['age_when_assumed_office'] = party_leaders.apply(lambda row: \\\n",
    "                                           relativedelta(row['assumed_office'],\n",
    "                                                         row['birth_date']).years,\n",
    "                                           axis = 1)\n",
    "party_leaders['years_in_office'] = party_leaders.apply(lambda row: \\\n",
    "                                          np.round((relativedelta(row['left_office'],\n",
    "                                                         row['assumed_office']).years * 12 + \\\n",
    "                                           relativedelta(row['left_office'],\n",
    "                                                         row['assumed_office']).months) / 12, 2),\n",
    "                                           axis = 1)\n",
    "# concatenate first name and surname\n",
    "party_leaders['full_name'] = party_leaders.apply(lambda row: row['name'] + ' ' + row['surname'],\n",
    "                                                 axis = 1)\n",
    "\n",
    "# concatenate full name and years in office\n",
    "party_leaders['full_name_years_in_office'] = party_leaders.apply(\\\n",
    "                                            lambda row: row['full_name'] + \\\n",
    "                                                        ' (' + str(row['assumed_office'].year) + \\\n",
    "                                                         ' - ' + str(row['left_office'].year) + ')' ,\n",
    "                                                 axis = 1)\n",
    "\n",
    "# order by political affiliation (left-wing to right-wing)\n",
    "party_leaders['party_abr'] = pd.Categorical(party_leaders['party_abr'],\n",
    "                                            ['V', 'S', 'Mp', 'C', 'L', 'M', 'Kd', 'Sd' ])\n",
    "party_leaders.sort_values('party_abr', inplace = True)\n",
    "\n",
    "fig = px.scatter(party_leaders,\n",
    "                 title='Svenska partiledare genom århundradena',\n",
    "                 x='age_when_assumed_office',\n",
    "                 y='years_in_office',\n",
    "                 hover_name='full_name_years_in_office',\n",
    "                 color='party_abr',\n",
    "                 color_discrete_map={'L': '#99ccff',\n",
    "                                     'M': '#0066ff',\n",
    "                                     'S': '#ff3300',\n",
    "                                     'Mp': '#408000',\n",
    "                                     'Kd': '#000099',\n",
    "                                     'C': '#8cff66',\n",
    "                                     'V': '#990000',\n",
    "                                     'Sd' : '#ffff00'\n",
    "                                     },\n",
    "                 #symbol='sex',\n",
    "                 #symbol_map={'m':'circle',\n",
    "                 #            'k':'diamond'},\n",
    "                 labels={'age_when_assumed_office':u'Ålder vid tillträde',\n",
    "                         'years_in_office':'Antal år i ämbetet',\n",
    "                         'party_abr':'Parti'}\n",
    "                 )\n",
    "fig.update_traces(marker=dict(size=15,\n",
    "                              symbol= 'circle',\n",
    "                              line=dict(width=2,\n",
    "                                        color='DarkSlateGrey'),\n",
    "                              opacity = 0.95),\n",
    "                  selector=dict(mode='markers')\n",
    "                  )\n",
    "\n",
    "fig.show()"
   ]
  },
  {
   "cell_type": "code",
   "execution_count": 25,
   "metadata": {},
   "outputs": [
    {
     "data": {
      "text/plain": [
       "'https://plotly.com/~haschischa/1/'"
      ]
     },
     "execution_count": 25,
     "metadata": {},
     "output_type": "execute_result"
    }
   ],
   "source": [
    "import chart_studio\n",
    "username = 'haschischa'\n",
    "api_key = 'esXQhgTeCu2sZqSr4k5N'\n",
    "chart_studio.tools.set_credentials_file(username=username, api_key=api_key)\n",
    "import chart_studio.plotly as py\n",
    "py.plot(fig, filename = 'party_leaders_swe', auto_open=True)"
   ]
  },
  {
   "cell_type": "code",
   "execution_count": 3,
   "metadata": {},
   "outputs": [],
   "source": [
    "# chart_studio.tools.get_embed('https://plotly.com/~haschischa/1/')"
   ]
  },
  {
   "cell_type": "raw",
   "metadata": {},
   "source": [
    "<iframe id=\"igraph\" scrolling=\"no\" style=\"border:none;\" \n",
    "seamless=\"seamless\" src=\"https://plotly.com/~haschischa/1.embed\" height=\"525\" width=\"100%\"></iframe>"
   ]
  }
 ],
 "metadata": {
  "kernelspec": {
   "display_name": "Python 3",
   "language": "python",
   "name": "python3"
  },
  "language_info": {
   "codemirror_mode": {
    "name": "ipython",
    "version": 3
   },
   "file_extension": ".py",
   "mimetype": "text/x-python",
   "name": "python",
   "nbconvert_exporter": "python",
   "pygments_lexer": "ipython3",
   "version": "3.8.2"
  },
  "nikola": {
   "category": "",
   "date": "2020-05-10 20:30:43 UTC+02:00",
   "description": "",
   "link": "",
   "slug": "jupyter-post",
   "tags": "",
   "title": "Jupyter post",
   "type": "text"
  }
 },
 "nbformat": 4,
 "nbformat_minor": 4
}
